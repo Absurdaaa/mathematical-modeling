{
 "cells": [
  {
   "cell_type": "code",
   "execution_count": 382,
   "id": "aedd174ad9d31278",
   "metadata": {
    "collapsed": true,
    "ExecuteTime": {
     "end_time": "2024-08-06T12:41:32.601147800Z",
     "start_time": "2024-08-06T12:41:32.572950400Z"
    }
   },
   "outputs": [],
   "source": [
    "import pandas as pd"
   ]
  },
  {
   "cell_type": "code",
   "execution_count": 383,
   "outputs": [
    {
     "data": {
      "text/plain": "                  Unnamed: 0      AADK      AAPA      ABFA        ABH  \\\n0          b_Fbat107PT24.CEL  8.492404  8.111451  8.320842  10.287112   \n1          b_Fbat107PT30.CEL  7.639380  7.239965  7.289051   9.862287   \n2          b_Fbat107PT48.CEL  8.088340  7.855510  7.793395   9.676720   \n3          b_Fbat107PT52.CEL  7.886820  7.939513  7.997588   9.680562   \n4    knh_102_Fbat289PT24.CEL  6.805762  7.554522  7.609902   8.551953   \n..                       ...       ...       ...       ...        ...   \n66  knhb_252_Fbat526PT48.CEL  6.669958  7.731588  7.719349   8.267227   \n67  knhb_255_Fbat527PT24.CEL  7.833311  8.136090  8.165093   9.562706   \n68  knhb_256_Fbat527PT48.CEL  6.163461  7.714285  7.560790   7.476788   \n69  knhb_259_Fbat528PT24.CEL  7.342565  7.743141  7.709288   9.307739   \n70  knhb_260_Fbat528PT48.CEL  6.855528  8.274964  7.988819   8.043474   \n\n        ABNA       ABRB      ACCA      ACCB      ACCC  ...    YYDF_i  \\\n0   8.261279  10.208273  9.745474  9.818821  9.676227  ...  7.882737   \n1   7.303497   9.500023  9.216008  9.854946  9.650078  ...  7.912135   \n2   7.098273   9.473917  9.580384  9.926077  9.787129  ...  7.354618   \n3   7.408494   9.788725  9.447722  9.852773  9.546915  ...  7.691985   \n4   7.712407   8.490847  8.696249  8.573272  8.589661  ...  7.999088   \n..       ...        ...       ...       ...       ...  ...       ...   \n66  6.821443   8.482042  8.231037  8.428432  8.497505  ...  8.646136   \n67  8.242625   9.749418  9.360730  8.974610  9.028068  ...  8.191385   \n68  6.972776   7.148842  7.373864  7.654946  7.818791  ...  7.673101   \n69  7.999415   9.762122  9.105318  8.988289  9.004700  ...  8.522762   \n70  7.417857   8.050808  8.182092  8.040652  7.769530  ...  7.939279   \n\n        YYDG      YYDH      YYDI      YYDJ      YYDK      YYXA      YYZB  \\\n0   5.440163  4.981684  6.481998  5.363919  7.773494  7.668711  3.762119   \n1   5.383739  4.597438  6.390127  4.763876  7.336261  7.600104  3.761616   \n2   5.718795  4.468228  6.123498  5.400686  7.573388  7.873352  3.741953   \n3   5.561048  4.787030  5.904708  5.139692  7.214269  7.384115  3.887179   \n4   5.549914  5.258139  6.206778  4.910169  6.884474  6.996956  4.034177   \n..       ...       ...       ...       ...       ...       ...       ...   \n66  5.318534  4.908785  6.081095  5.284497  6.802258  7.079083  4.492137   \n67  4.991214  4.603681  5.887783  4.955115  6.531699  7.947857  3.954690   \n68  5.492333  5.167516  6.089535  5.261065  6.925765  7.244050  4.421958   \n69  5.407418  5.480406  6.552994  5.609084  7.148286  7.522179  4.986751   \n70  5.331748  5.026742  5.988107  5.160052  6.558785  6.846085  3.874018   \n\n        YYZE       zur  \n0   7.172823  7.427105  \n1   7.187113  7.545287  \n2   7.251285  7.718321  \n3   7.117375  7.260654  \n4   7.722534  6.828164  \n..       ...       ...  \n66  7.351626  6.903990  \n67  7.269928  7.439051  \n68  7.842281  6.892450  \n69  7.539126  7.309948  \n70  7.299921  6.655945  \n\n[71 rows x 4089 columns]",
      "text/html": "<div>\n<style scoped>\n    .dataframe tbody tr th:only-of-type {\n        vertical-align: middle;\n    }\n\n    .dataframe tbody tr th {\n        vertical-align: top;\n    }\n\n    .dataframe thead th {\n        text-align: right;\n    }\n</style>\n<table border=\"1\" class=\"dataframe\">\n  <thead>\n    <tr style=\"text-align: right;\">\n      <th></th>\n      <th>Unnamed: 0</th>\n      <th>AADK</th>\n      <th>AAPA</th>\n      <th>ABFA</th>\n      <th>ABH</th>\n      <th>ABNA</th>\n      <th>ABRB</th>\n      <th>ACCA</th>\n      <th>ACCB</th>\n      <th>ACCC</th>\n      <th>...</th>\n      <th>YYDF_i</th>\n      <th>YYDG</th>\n      <th>YYDH</th>\n      <th>YYDI</th>\n      <th>YYDJ</th>\n      <th>YYDK</th>\n      <th>YYXA</th>\n      <th>YYZB</th>\n      <th>YYZE</th>\n      <th>zur</th>\n    </tr>\n  </thead>\n  <tbody>\n    <tr>\n      <th>0</th>\n      <td>b_Fbat107PT24.CEL</td>\n      <td>8.492404</td>\n      <td>8.111451</td>\n      <td>8.320842</td>\n      <td>10.287112</td>\n      <td>8.261279</td>\n      <td>10.208273</td>\n      <td>9.745474</td>\n      <td>9.818821</td>\n      <td>9.676227</td>\n      <td>...</td>\n      <td>7.882737</td>\n      <td>5.440163</td>\n      <td>4.981684</td>\n      <td>6.481998</td>\n      <td>5.363919</td>\n      <td>7.773494</td>\n      <td>7.668711</td>\n      <td>3.762119</td>\n      <td>7.172823</td>\n      <td>7.427105</td>\n    </tr>\n    <tr>\n      <th>1</th>\n      <td>b_Fbat107PT30.CEL</td>\n      <td>7.639380</td>\n      <td>7.239965</td>\n      <td>7.289051</td>\n      <td>9.862287</td>\n      <td>7.303497</td>\n      <td>9.500023</td>\n      <td>9.216008</td>\n      <td>9.854946</td>\n      <td>9.650078</td>\n      <td>...</td>\n      <td>7.912135</td>\n      <td>5.383739</td>\n      <td>4.597438</td>\n      <td>6.390127</td>\n      <td>4.763876</td>\n      <td>7.336261</td>\n      <td>7.600104</td>\n      <td>3.761616</td>\n      <td>7.187113</td>\n      <td>7.545287</td>\n    </tr>\n    <tr>\n      <th>2</th>\n      <td>b_Fbat107PT48.CEL</td>\n      <td>8.088340</td>\n      <td>7.855510</td>\n      <td>7.793395</td>\n      <td>9.676720</td>\n      <td>7.098273</td>\n      <td>9.473917</td>\n      <td>9.580384</td>\n      <td>9.926077</td>\n      <td>9.787129</td>\n      <td>...</td>\n      <td>7.354618</td>\n      <td>5.718795</td>\n      <td>4.468228</td>\n      <td>6.123498</td>\n      <td>5.400686</td>\n      <td>7.573388</td>\n      <td>7.873352</td>\n      <td>3.741953</td>\n      <td>7.251285</td>\n      <td>7.718321</td>\n    </tr>\n    <tr>\n      <th>3</th>\n      <td>b_Fbat107PT52.CEL</td>\n      <td>7.886820</td>\n      <td>7.939513</td>\n      <td>7.997588</td>\n      <td>9.680562</td>\n      <td>7.408494</td>\n      <td>9.788725</td>\n      <td>9.447722</td>\n      <td>9.852773</td>\n      <td>9.546915</td>\n      <td>...</td>\n      <td>7.691985</td>\n      <td>5.561048</td>\n      <td>4.787030</td>\n      <td>5.904708</td>\n      <td>5.139692</td>\n      <td>7.214269</td>\n      <td>7.384115</td>\n      <td>3.887179</td>\n      <td>7.117375</td>\n      <td>7.260654</td>\n    </tr>\n    <tr>\n      <th>4</th>\n      <td>knh_102_Fbat289PT24.CEL</td>\n      <td>6.805762</td>\n      <td>7.554522</td>\n      <td>7.609902</td>\n      <td>8.551953</td>\n      <td>7.712407</td>\n      <td>8.490847</td>\n      <td>8.696249</td>\n      <td>8.573272</td>\n      <td>8.589661</td>\n      <td>...</td>\n      <td>7.999088</td>\n      <td>5.549914</td>\n      <td>5.258139</td>\n      <td>6.206778</td>\n      <td>4.910169</td>\n      <td>6.884474</td>\n      <td>6.996956</td>\n      <td>4.034177</td>\n      <td>7.722534</td>\n      <td>6.828164</td>\n    </tr>\n    <tr>\n      <th>...</th>\n      <td>...</td>\n      <td>...</td>\n      <td>...</td>\n      <td>...</td>\n      <td>...</td>\n      <td>...</td>\n      <td>...</td>\n      <td>...</td>\n      <td>...</td>\n      <td>...</td>\n      <td>...</td>\n      <td>...</td>\n      <td>...</td>\n      <td>...</td>\n      <td>...</td>\n      <td>...</td>\n      <td>...</td>\n      <td>...</td>\n      <td>...</td>\n      <td>...</td>\n      <td>...</td>\n    </tr>\n    <tr>\n      <th>66</th>\n      <td>knhb_252_Fbat526PT48.CEL</td>\n      <td>6.669958</td>\n      <td>7.731588</td>\n      <td>7.719349</td>\n      <td>8.267227</td>\n      <td>6.821443</td>\n      <td>8.482042</td>\n      <td>8.231037</td>\n      <td>8.428432</td>\n      <td>8.497505</td>\n      <td>...</td>\n      <td>8.646136</td>\n      <td>5.318534</td>\n      <td>4.908785</td>\n      <td>6.081095</td>\n      <td>5.284497</td>\n      <td>6.802258</td>\n      <td>7.079083</td>\n      <td>4.492137</td>\n      <td>7.351626</td>\n      <td>6.903990</td>\n    </tr>\n    <tr>\n      <th>67</th>\n      <td>knhb_255_Fbat527PT24.CEL</td>\n      <td>7.833311</td>\n      <td>8.136090</td>\n      <td>8.165093</td>\n      <td>9.562706</td>\n      <td>8.242625</td>\n      <td>9.749418</td>\n      <td>9.360730</td>\n      <td>8.974610</td>\n      <td>9.028068</td>\n      <td>...</td>\n      <td>8.191385</td>\n      <td>4.991214</td>\n      <td>4.603681</td>\n      <td>5.887783</td>\n      <td>4.955115</td>\n      <td>6.531699</td>\n      <td>7.947857</td>\n      <td>3.954690</td>\n      <td>7.269928</td>\n      <td>7.439051</td>\n    </tr>\n    <tr>\n      <th>68</th>\n      <td>knhb_256_Fbat527PT48.CEL</td>\n      <td>6.163461</td>\n      <td>7.714285</td>\n      <td>7.560790</td>\n      <td>7.476788</td>\n      <td>6.972776</td>\n      <td>7.148842</td>\n      <td>7.373864</td>\n      <td>7.654946</td>\n      <td>7.818791</td>\n      <td>...</td>\n      <td>7.673101</td>\n      <td>5.492333</td>\n      <td>5.167516</td>\n      <td>6.089535</td>\n      <td>5.261065</td>\n      <td>6.925765</td>\n      <td>7.244050</td>\n      <td>4.421958</td>\n      <td>7.842281</td>\n      <td>6.892450</td>\n    </tr>\n    <tr>\n      <th>69</th>\n      <td>knhb_259_Fbat528PT24.CEL</td>\n      <td>7.342565</td>\n      <td>7.743141</td>\n      <td>7.709288</td>\n      <td>9.307739</td>\n      <td>7.999415</td>\n      <td>9.762122</td>\n      <td>9.105318</td>\n      <td>8.988289</td>\n      <td>9.004700</td>\n      <td>...</td>\n      <td>8.522762</td>\n      <td>5.407418</td>\n      <td>5.480406</td>\n      <td>6.552994</td>\n      <td>5.609084</td>\n      <td>7.148286</td>\n      <td>7.522179</td>\n      <td>4.986751</td>\n      <td>7.539126</td>\n      <td>7.309948</td>\n    </tr>\n    <tr>\n      <th>70</th>\n      <td>knhb_260_Fbat528PT48.CEL</td>\n      <td>6.855528</td>\n      <td>8.274964</td>\n      <td>7.988819</td>\n      <td>8.043474</td>\n      <td>7.417857</td>\n      <td>8.050808</td>\n      <td>8.182092</td>\n      <td>8.040652</td>\n      <td>7.769530</td>\n      <td>...</td>\n      <td>7.939279</td>\n      <td>5.331748</td>\n      <td>5.026742</td>\n      <td>5.988107</td>\n      <td>5.160052</td>\n      <td>6.558785</td>\n      <td>6.846085</td>\n      <td>3.874018</td>\n      <td>7.299921</td>\n      <td>6.655945</td>\n    </tr>\n  </tbody>\n</table>\n<p>71 rows × 4089 columns</p>\n</div>"
     },
     "execution_count": 383,
     "metadata": {},
     "output_type": "execute_result"
    }
   ],
   "source": [
    "\n",
    "df = pd.read_csv('D:\\zhuomian\\校赛/t2\\原始/x_data.csv', sep=',', header=0)\n",
    "df"
   ],
   "metadata": {
    "collapsed": false,
    "ExecuteTime": {
     "end_time": "2024-08-06T12:41:32.653045400Z",
     "start_time": "2024-08-06T12:41:32.579235Z"
    }
   },
   "id": "22049eb84d7306c6"
  },
  {
   "cell_type": "code",
   "execution_count": 384,
   "outputs": [],
   "source": [
    "\n",
    "df.set_index(\"Unnamed: 0\", inplace=True)"
   ],
   "metadata": {
    "collapsed": false,
    "ExecuteTime": {
     "end_time": "2024-08-06T12:41:32.653045400Z",
     "start_time": "2024-08-06T12:41:32.651040300Z"
    }
   },
   "id": "5ef17c1a1ceea4fd"
  },
  {
   "cell_type": "code",
   "execution_count": 385,
   "outputs": [
    {
     "data": {
      "text/plain": "Unnamed: 0  b_Fbat107PT24.CEL  b_Fbat107PT30.CEL  b_Fbat107PT48.CEL  \\\nAADK                 8.492404           7.639380           8.088340   \nAAPA                 8.111451           7.239965           7.855510   \nABFA                 8.320842           7.289051           7.793395   \nABH                 10.287112           9.862287           9.676720   \nABNA                 8.261279           7.303497           7.098273   \n...                       ...                ...                ...   \nYYDK                 7.773494           7.336261           7.573388   \nYYXA                 7.668711           7.600104           7.873352   \nYYZB                 3.762119           3.761616           3.741953   \nYYZE                 7.172823           7.187113           7.251285   \nzur                  7.427105           7.545287           7.718321   \n\nUnnamed: 0  b_Fbat107PT52.CEL  knh_102_Fbat289PT24.CEL  \\\nAADK                 7.886820                 6.805762   \nAAPA                 7.939513                 7.554522   \nABFA                 7.997588                 7.609902   \nABH                  9.680562                 8.551953   \nABNA                 7.408494                 7.712407   \n...                       ...                      ...   \nYYDK                 7.214269                 6.884474   \nYYXA                 7.384115                 6.996956   \nYYZB                 3.887179                 4.034177   \nYYZE                 7.117375                 7.722534   \nzur                  7.260654                 6.828164   \n\nUnnamed: 0  knh_103_Fbat289PT48.CEL  knh_490_BS0001_Fbat1070_PT24_1.Rep.CEL  \\\nAADK                       7.178877                                6.971956   \nAAPA                       7.885714                                7.695355   \nABFA                       7.757972                                8.074745   \nABH                        8.748767                                8.751813   \nABNA                       7.667774                                6.813236   \n...                             ...                                     ...   \nYYDK                       6.867389                                7.315474   \nYYXA                       7.428870                                7.010860   \nYYZB                       3.665323                                4.812729   \nYYZE                       7.850928                                7.004833   \nzur                        7.048634                                7.563947   \n\nUnnamed: 0  knh_491_BS0001_Fbat1070_PT30_1.Rep.CEL  \\\nAADK                                      8.035707   \nAAPA                                      7.912118   \nABFA                                      8.239717   \nABH                                      10.287848   \nABNA                                      8.055294   \n...                                            ...   \nYYDK                                      7.150904   \nYYXA                                      7.783111   \nYYZB                                      3.385509   \nYYZE                                      7.554349   \nzur                                       7.707353   \n\nUnnamed: 0  knh_492_BS0001_Fbat1070_PT48_1.Rep.CEL  \\\nAADK                                      6.700877   \nAAPA                                      7.211642   \nABFA                                      7.324892   \nABH                                       9.272633   \nABNA                                      6.681405   \n...                                            ...   \nYYDK                                      6.881065   \nYYXA                                      7.137642   \nYYZB                                      4.283899   \nYYZE                                      7.204511   \nzur                                       7.105626   \n\nUnnamed: 0  knh_494_BS0001_Fbat1077_PT24_2.Rep.CEL  ...  \\\nAADK                                      6.893788  ...   \nAAPA                                      8.033641  ...   \nABFA                                      8.172675  ...   \nABH                                       8.839805  ...   \nABNA                                      7.361545  ...   \n...                                            ...  ...   \nYYDK                                      7.061554  ...   \nYYXA                                      7.340761  ...   \nYYZB                                      4.070721  ...   \nYYZE                                      8.285544  ...   \nzur                                       6.884123  ...   \n\nUnnamed: 0  knhb_237_Fbat394PT24.CEL  knhb_238_Fbat394PT48.CEL  \\\nAADK                        7.257779                  6.164636   \nAAPA                        7.637454                  7.959910   \nABFA                        8.010179                  7.530233   \nABH                         9.575078                  7.737344   \nABNA                        7.249397                  7.342696   \n...                              ...                       ...   \nYYDK                        6.517373                  6.855288   \nYYXA                        7.093812                  7.239442   \nYYZB                        3.740853                  3.949147   \nYYZE                        7.574023                  7.729055   \nzur                         7.258985                  7.116049   \n\nUnnamed: 0  knhb_247_Fbat525PT24.CEL  knhb_248_Fbat525PT48.CEL  \\\nAADK                        6.427321                  6.843452   \nAAPA                        7.913699                  8.467210   \nABFA                        7.852074                  8.195937   \nABH                         7.803989                  8.271224   \nABNA                        6.491471                  8.062159   \n...                              ...                       ...   \nYYDK                        6.819648                  6.558915   \nYYXA                        6.681570                  6.818087   \nYYZB                        4.286074                  3.864420   \nYYZE                        7.290496                  7.258848   \nzur                         6.816444                  6.631423   \n\nUnnamed: 0  knhb_251_Fbat526PT24.CEL  knhb_252_Fbat526PT48.CEL  \\\nAADK                        6.475742                  6.669958   \nAAPA                        7.909269                  7.731588   \nABFA                        8.062307                  7.719349   \nABH                         8.744824                  8.267227   \nABNA                        7.365443                  6.821443   \n...                              ...                       ...   \nYYDK                        6.860578                  6.802258   \nYYXA                        7.092537                  7.079083   \nYYZB                        4.325453                  4.492137   \nYYZE                        7.240634                  7.351626   \nzur                         6.875009                  6.903990   \n\nUnnamed: 0  knhb_255_Fbat527PT24.CEL  knhb_256_Fbat527PT48.CEL  \\\nAADK                        7.833311                  6.163461   \nAAPA                        8.136090                  7.714285   \nABFA                        8.165093                  7.560790   \nABH                         9.562706                  7.476788   \nABNA                        8.242625                  6.972776   \n...                              ...                       ...   \nYYDK                        6.531699                  6.925765   \nYYXA                        7.947857                  7.244050   \nYYZB                        3.954690                  4.421958   \nYYZE                        7.269928                  7.842281   \nzur                         7.439051                  6.892450   \n\nUnnamed: 0  knhb_259_Fbat528PT24.CEL  knhb_260_Fbat528PT48.CEL  \nAADK                        7.342565                  6.855528  \nAAPA                        7.743141                  8.274964  \nABFA                        7.709288                  7.988819  \nABH                         9.307739                  8.043474  \nABNA                        7.999415                  7.417857  \n...                              ...                       ...  \nYYDK                        7.148286                  6.558785  \nYYXA                        7.522179                  6.846085  \nYYZB                        4.986751                  3.874018  \nYYZE                        7.539126                  7.299921  \nzur                         7.309948                  6.655945  \n\n[4088 rows x 71 columns]",
      "text/html": "<div>\n<style scoped>\n    .dataframe tbody tr th:only-of-type {\n        vertical-align: middle;\n    }\n\n    .dataframe tbody tr th {\n        vertical-align: top;\n    }\n\n    .dataframe thead th {\n        text-align: right;\n    }\n</style>\n<table border=\"1\" class=\"dataframe\">\n  <thead>\n    <tr style=\"text-align: right;\">\n      <th>Unnamed: 0</th>\n      <th>b_Fbat107PT24.CEL</th>\n      <th>b_Fbat107PT30.CEL</th>\n      <th>b_Fbat107PT48.CEL</th>\n      <th>b_Fbat107PT52.CEL</th>\n      <th>knh_102_Fbat289PT24.CEL</th>\n      <th>knh_103_Fbat289PT48.CEL</th>\n      <th>knh_490_BS0001_Fbat1070_PT24_1.Rep.CEL</th>\n      <th>knh_491_BS0001_Fbat1070_PT30_1.Rep.CEL</th>\n      <th>knh_492_BS0001_Fbat1070_PT48_1.Rep.CEL</th>\n      <th>knh_494_BS0001_Fbat1077_PT24_2.Rep.CEL</th>\n      <th>...</th>\n      <th>knhb_237_Fbat394PT24.CEL</th>\n      <th>knhb_238_Fbat394PT48.CEL</th>\n      <th>knhb_247_Fbat525PT24.CEL</th>\n      <th>knhb_248_Fbat525PT48.CEL</th>\n      <th>knhb_251_Fbat526PT24.CEL</th>\n      <th>knhb_252_Fbat526PT48.CEL</th>\n      <th>knhb_255_Fbat527PT24.CEL</th>\n      <th>knhb_256_Fbat527PT48.CEL</th>\n      <th>knhb_259_Fbat528PT24.CEL</th>\n      <th>knhb_260_Fbat528PT48.CEL</th>\n    </tr>\n  </thead>\n  <tbody>\n    <tr>\n      <th>AADK</th>\n      <td>8.492404</td>\n      <td>7.639380</td>\n      <td>8.088340</td>\n      <td>7.886820</td>\n      <td>6.805762</td>\n      <td>7.178877</td>\n      <td>6.971956</td>\n      <td>8.035707</td>\n      <td>6.700877</td>\n      <td>6.893788</td>\n      <td>...</td>\n      <td>7.257779</td>\n      <td>6.164636</td>\n      <td>6.427321</td>\n      <td>6.843452</td>\n      <td>6.475742</td>\n      <td>6.669958</td>\n      <td>7.833311</td>\n      <td>6.163461</td>\n      <td>7.342565</td>\n      <td>6.855528</td>\n    </tr>\n    <tr>\n      <th>AAPA</th>\n      <td>8.111451</td>\n      <td>7.239965</td>\n      <td>7.855510</td>\n      <td>7.939513</td>\n      <td>7.554522</td>\n      <td>7.885714</td>\n      <td>7.695355</td>\n      <td>7.912118</td>\n      <td>7.211642</td>\n      <td>8.033641</td>\n      <td>...</td>\n      <td>7.637454</td>\n      <td>7.959910</td>\n      <td>7.913699</td>\n      <td>8.467210</td>\n      <td>7.909269</td>\n      <td>7.731588</td>\n      <td>8.136090</td>\n      <td>7.714285</td>\n      <td>7.743141</td>\n      <td>8.274964</td>\n    </tr>\n    <tr>\n      <th>ABFA</th>\n      <td>8.320842</td>\n      <td>7.289051</td>\n      <td>7.793395</td>\n      <td>7.997588</td>\n      <td>7.609902</td>\n      <td>7.757972</td>\n      <td>8.074745</td>\n      <td>8.239717</td>\n      <td>7.324892</td>\n      <td>8.172675</td>\n      <td>...</td>\n      <td>8.010179</td>\n      <td>7.530233</td>\n      <td>7.852074</td>\n      <td>8.195937</td>\n      <td>8.062307</td>\n      <td>7.719349</td>\n      <td>8.165093</td>\n      <td>7.560790</td>\n      <td>7.709288</td>\n      <td>7.988819</td>\n    </tr>\n    <tr>\n      <th>ABH</th>\n      <td>10.287112</td>\n      <td>9.862287</td>\n      <td>9.676720</td>\n      <td>9.680562</td>\n      <td>8.551953</td>\n      <td>8.748767</td>\n      <td>8.751813</td>\n      <td>10.287848</td>\n      <td>9.272633</td>\n      <td>8.839805</td>\n      <td>...</td>\n      <td>9.575078</td>\n      <td>7.737344</td>\n      <td>7.803989</td>\n      <td>8.271224</td>\n      <td>8.744824</td>\n      <td>8.267227</td>\n      <td>9.562706</td>\n      <td>7.476788</td>\n      <td>9.307739</td>\n      <td>8.043474</td>\n    </tr>\n    <tr>\n      <th>ABNA</th>\n      <td>8.261279</td>\n      <td>7.303497</td>\n      <td>7.098273</td>\n      <td>7.408494</td>\n      <td>7.712407</td>\n      <td>7.667774</td>\n      <td>6.813236</td>\n      <td>8.055294</td>\n      <td>6.681405</td>\n      <td>7.361545</td>\n      <td>...</td>\n      <td>7.249397</td>\n      <td>7.342696</td>\n      <td>6.491471</td>\n      <td>8.062159</td>\n      <td>7.365443</td>\n      <td>6.821443</td>\n      <td>8.242625</td>\n      <td>6.972776</td>\n      <td>7.999415</td>\n      <td>7.417857</td>\n    </tr>\n    <tr>\n      <th>...</th>\n      <td>...</td>\n      <td>...</td>\n      <td>...</td>\n      <td>...</td>\n      <td>...</td>\n      <td>...</td>\n      <td>...</td>\n      <td>...</td>\n      <td>...</td>\n      <td>...</td>\n      <td>...</td>\n      <td>...</td>\n      <td>...</td>\n      <td>...</td>\n      <td>...</td>\n      <td>...</td>\n      <td>...</td>\n      <td>...</td>\n      <td>...</td>\n      <td>...</td>\n      <td>...</td>\n    </tr>\n    <tr>\n      <th>YYDK</th>\n      <td>7.773494</td>\n      <td>7.336261</td>\n      <td>7.573388</td>\n      <td>7.214269</td>\n      <td>6.884474</td>\n      <td>6.867389</td>\n      <td>7.315474</td>\n      <td>7.150904</td>\n      <td>6.881065</td>\n      <td>7.061554</td>\n      <td>...</td>\n      <td>6.517373</td>\n      <td>6.855288</td>\n      <td>6.819648</td>\n      <td>6.558915</td>\n      <td>6.860578</td>\n      <td>6.802258</td>\n      <td>6.531699</td>\n      <td>6.925765</td>\n      <td>7.148286</td>\n      <td>6.558785</td>\n    </tr>\n    <tr>\n      <th>YYXA</th>\n      <td>7.668711</td>\n      <td>7.600104</td>\n      <td>7.873352</td>\n      <td>7.384115</td>\n      <td>6.996956</td>\n      <td>7.428870</td>\n      <td>7.010860</td>\n      <td>7.783111</td>\n      <td>7.137642</td>\n      <td>7.340761</td>\n      <td>...</td>\n      <td>7.093812</td>\n      <td>7.239442</td>\n      <td>6.681570</td>\n      <td>6.818087</td>\n      <td>7.092537</td>\n      <td>7.079083</td>\n      <td>7.947857</td>\n      <td>7.244050</td>\n      <td>7.522179</td>\n      <td>6.846085</td>\n    </tr>\n    <tr>\n      <th>YYZB</th>\n      <td>3.762119</td>\n      <td>3.761616</td>\n      <td>3.741953</td>\n      <td>3.887179</td>\n      <td>4.034177</td>\n      <td>3.665323</td>\n      <td>4.812729</td>\n      <td>3.385509</td>\n      <td>4.283899</td>\n      <td>4.070721</td>\n      <td>...</td>\n      <td>3.740853</td>\n      <td>3.949147</td>\n      <td>4.286074</td>\n      <td>3.864420</td>\n      <td>4.325453</td>\n      <td>4.492137</td>\n      <td>3.954690</td>\n      <td>4.421958</td>\n      <td>4.986751</td>\n      <td>3.874018</td>\n    </tr>\n    <tr>\n      <th>YYZE</th>\n      <td>7.172823</td>\n      <td>7.187113</td>\n      <td>7.251285</td>\n      <td>7.117375</td>\n      <td>7.722534</td>\n      <td>7.850928</td>\n      <td>7.004833</td>\n      <td>7.554349</td>\n      <td>7.204511</td>\n      <td>8.285544</td>\n      <td>...</td>\n      <td>7.574023</td>\n      <td>7.729055</td>\n      <td>7.290496</td>\n      <td>7.258848</td>\n      <td>7.240634</td>\n      <td>7.351626</td>\n      <td>7.269928</td>\n      <td>7.842281</td>\n      <td>7.539126</td>\n      <td>7.299921</td>\n    </tr>\n    <tr>\n      <th>zur</th>\n      <td>7.427105</td>\n      <td>7.545287</td>\n      <td>7.718321</td>\n      <td>7.260654</td>\n      <td>6.828164</td>\n      <td>7.048634</td>\n      <td>7.563947</td>\n      <td>7.707353</td>\n      <td>7.105626</td>\n      <td>6.884123</td>\n      <td>...</td>\n      <td>7.258985</td>\n      <td>7.116049</td>\n      <td>6.816444</td>\n      <td>6.631423</td>\n      <td>6.875009</td>\n      <td>6.903990</td>\n      <td>7.439051</td>\n      <td>6.892450</td>\n      <td>7.309948</td>\n      <td>6.655945</td>\n    </tr>\n  </tbody>\n</table>\n<p>4088 rows × 71 columns</p>\n</div>"
     },
     "execution_count": 385,
     "metadata": {},
     "output_type": "execute_result"
    }
   ],
   "source": [
    "\n",
    "df=df.T\n",
    "df"
   ],
   "metadata": {
    "collapsed": false,
    "ExecuteTime": {
     "end_time": "2024-08-06T12:41:32.667545900Z",
     "start_time": "2024-08-06T12:41:32.653045400Z"
    }
   },
   "id": "initial_id"
  },
  {
   "cell_type": "code",
   "execution_count": 386,
   "outputs": [
    {
     "data": {
      "text/plain": "['YCKE',\n 'YNZA',\n 'YWFO',\n 'YXLG',\n 'YXLD',\n 'YTGB',\n 'YDAR',\n 'YXLE',\n 'YQXI',\n 'YXLC',\n 'YTGA',\n 'YJCJ',\n 'YTGD',\n 'XKDS',\n 'XHLA',\n 'YTGC',\n 'YWGA',\n 'YJCI',\n 'YXLF',\n 'YXLJ',\n 'XHLB',\n 'YHDT',\n 'XKDK',\n 'YCGO',\n 'XKDF',\n 'YCGM',\n 'XKDV',\n 'YBFG',\n 'YCGN',\n 'YHAH',\n 'XKDG',\n 'XKDH',\n 'YONU',\n 'XKDI',\n 'SIGY',\n 'YQXJ',\n 'YKUG',\n 'XLYA',\n 'YCEA',\n 'XKDM',\n 'TRXA',\n 'YUIA',\n 'RPLJ',\n 'YORB',\n 'YRPE',\n 'RPLL',\n 'BGLS',\n 'YTIA',\n 'YDII',\n 'YDIJ',\n 'YHFH',\n 'YCDH',\n 'YUTI',\n 'YCIC',\n 'KATA',\n 'YXLH',\n 'YHDX',\n 'GAPB',\n 'YHZA',\n 'YTCF',\n 'YCIA',\n 'ACOA',\n 'YOEB',\n 'ACOL',\n 'ACOC',\n 'ETFB',\n 'MTLD']"
     },
     "execution_count": 386,
     "metadata": {},
     "output_type": "execute_result"
    }
   ],
   "source": [
    "df1 = pd.read_excel('1.5倍差异基因.xlsx')\n",
    "a=df1['gene'].tolist()\n",
    "a"
   ],
   "metadata": {
    "collapsed": false,
    "ExecuteTime": {
     "end_time": "2024-08-06T12:41:32.678750700Z",
     "start_time": "2024-08-06T12:41:32.667545900Z"
    }
   },
   "id": "772dbbb0dcf0c8cd"
  },
  {
   "cell_type": "code",
   "execution_count": 387,
   "outputs": [],
   "source": [
    "\n",
    "df3=df[df.index.isin(a)] "
   ],
   "metadata": {
    "collapsed": false,
    "ExecuteTime": {
     "end_time": "2024-08-06T12:41:32.716113200Z",
     "start_time": "2024-08-06T12:41:32.678750700Z"
    }
   },
   "id": "6b4d4334b386b967"
  },
  {
   "cell_type": "code",
   "execution_count": 388,
   "outputs": [],
   "source": [
    "df4=df3.T"
   ],
   "metadata": {
    "collapsed": false,
    "ExecuteTime": {
     "end_time": "2024-08-06T12:41:32.721035800Z",
     "start_time": "2024-08-06T12:41:32.684367100Z"
    }
   },
   "id": "93b9449f86ade3d9"
  },
  {
   "cell_type": "code",
   "execution_count": 389,
   "outputs": [],
   "source": [
    "df4.to_excel('1.5cyjyexp.xlsx')"
   ],
   "metadata": {
    "collapsed": false,
    "ExecuteTime": {
     "end_time": "2024-08-06T12:41:32.800620300Z",
     "start_time": "2024-08-06T12:41:32.687753300Z"
    }
   },
   "id": "dc25be2d25fea922"
  },
  {
   "cell_type": "code",
   "execution_count": 390,
   "outputs": [
    {
     "name": "stdout",
     "output_type": "stream",
     "text": [
      "    production(log)\n",
      "0         -6.643856\n",
      "1         -6.947862\n",
      "2         -7.930160\n",
      "3         -8.287712\n",
      "4         -7.310432\n",
      "..              ...\n",
      "66        -8.333516\n",
      "67        -6.947862\n",
      "68        -8.039785\n",
      "69        -6.764150\n",
      "70        -7.587273\n",
      "\n",
      "[71 rows x 1 columns]\n"
     ]
    }
   ],
   "source": [
    "y1=  pd.read_csv('D:\\zhuomian\\校赛/t2\\原始/y_data.csv', sep=',', header=0)\n",
    "print(y1)"
   ],
   "metadata": {
    "collapsed": false,
    "ExecuteTime": {
     "end_time": "2024-08-06T12:41:32.849630800Z",
     "start_time": "2024-08-06T12:41:32.741946900Z"
    }
   },
   "id": "c4e4b741be30db88"
  },
  {
   "cell_type": "code",
   "execution_count": 391,
   "outputs": [
    {
     "data": {
      "text/plain": "                               ACOA       ACOC       ACOL      BGLS  \\\nUnnamed: 0                                                            \nb_Fbat107PT24.CEL         12.324120  11.776005  12.089348  9.889367   \nb_Fbat107PT30.CEL         10.358482  10.248486  10.638415  9.212605   \nb_Fbat107PT48.CEL          9.475664   9.654465  10.103092  9.017936   \nb_Fbat107PT52.CEL          9.890362   9.519613  10.076982  9.484614   \nknh_102_Fbat289PT24.CEL   11.203205  11.161349  11.421737  9.639333   \n...                             ...        ...        ...       ...   \nknhb_252_Fbat526PT48.CEL   8.761565   8.254346   8.581191  8.047885   \nknhb_255_Fbat527PT24.CEL  10.074554   9.759161   9.847378  8.528671   \nknhb_256_Fbat527PT48.CEL   9.139668   8.589319   8.830947  7.717368   \nknhb_259_Fbat528PT24.CEL  11.251437  10.918159  10.980634  7.547610   \nknhb_260_Fbat528PT48.CEL   8.927952   8.587714   8.547113  7.872611   \n\n                               ETFB       GAPB       KATA       MTLD  \\\nUnnamed: 0                                                             \nb_Fbat107PT24.CEL         10.599860  12.283714  10.812109   9.155505   \nb_Fbat107PT30.CEL         10.112995  11.785224  11.433798   9.612246   \nb_Fbat107PT48.CEL          3.530039  11.430013  10.018085   9.560069   \nb_Fbat107PT52.CEL          9.867326  11.260545   9.793874   9.314783   \nknh_102_Fbat289PT24.CEL    9.657681  10.538356   9.058072   7.985947   \n...                             ...        ...        ...        ...   \nknhb_252_Fbat526PT48.CEL   8.762867   9.365504   9.079053   8.001561   \nknhb_255_Fbat527PT24.CEL  10.095528  11.268177  10.205480  11.352298   \nknhb_256_Fbat527PT48.CEL   7.812616   8.326074   8.638573   8.055042   \nknhb_259_Fbat528PT24.CEL   9.850292  11.025710   9.878302  11.684999   \nknhb_260_Fbat528PT48.CEL   8.245474   8.703045   8.885172   8.394180   \n\n                              RPLJ      RPLL  ...       YUTI      YWFO  \\\nUnnamed: 0                                    ...                        \nb_Fbat107PT24.CEL         7.247484  7.512938  ...  11.149658  9.887728   \nb_Fbat107PT30.CEL         8.152753  8.248651  ...  11.385702  9.626395   \nb_Fbat107PT48.CEL         8.940876  9.053245  ...  11.125383  9.375176   \nb_Fbat107PT52.CEL         8.071629  8.372457  ...  10.833900  9.376454   \nknh_102_Fbat289PT24.CEL   6.462661  7.357222  ...  10.278535  9.173390   \n...                            ...       ...  ...        ...       ...   \nknhb_252_Fbat526PT48.CEL  7.043239  8.664091  ...   9.179679  8.065889   \nknhb_255_Fbat527PT24.CEL  7.854090  8.870646  ...  10.152214  8.985875   \nknhb_256_Fbat527PT48.CEL  6.558416  7.457298  ...   8.607382  8.403321   \nknhb_259_Fbat528PT24.CEL  7.609305  8.574197  ...  10.199311  9.380027   \nknhb_260_Fbat528PT48.CEL  7.356826  8.860597  ...   8.608894  8.390983   \n\n                              YWGA       YXLC       YXLD       YXLE  \\\nUnnamed: 0                                                            \nb_Fbat107PT24.CEL         9.636041  11.341875  11.400396  10.692673   \nb_Fbat107PT30.CEL         9.393478  11.608416  11.672586  11.054989   \nb_Fbat107PT48.CEL         9.265102  12.843800  12.869957  11.930090   \nb_Fbat107PT52.CEL         9.297749  13.116610  13.178030  12.200470   \nknh_102_Fbat289PT24.CEL   8.935165  10.550158  10.799744   9.562887   \n...                            ...        ...        ...        ...   \nknhb_252_Fbat526PT48.CEL  7.897159  12.543190  12.731218  11.744776   \nknhb_255_Fbat527PT24.CEL  8.659508  10.793187  11.048911  10.528379   \nknhb_256_Fbat527PT48.CEL  8.008019  12.037156  12.488770  11.496680   \nknhb_259_Fbat528PT24.CEL  8.919111  11.039084  11.313572  10.826784   \nknhb_260_Fbat528PT48.CEL  7.775822  12.657152  12.971338  12.571936   \n\n                               YXLF       YXLG       YXLH       YXLJ  \nUnnamed: 0                                                            \nb_Fbat107PT24.CEL         10.523422  10.546576   8.736594   9.108448  \nb_Fbat107PT30.CEL         10.930425  10.889011   8.681865   9.558392  \nb_Fbat107PT48.CEL         12.067484  12.179926   9.399933  10.559556  \nb_Fbat107PT52.CEL         12.351664  12.436408   8.504988  10.513444  \nknh_102_Fbat289PT24.CEL    9.714029  10.175065   9.637252   8.869383  \n...                             ...        ...        ...        ...  \nknhb_252_Fbat526PT48.CEL  12.117330  12.047993  10.769374  10.773302  \nknhb_255_Fbat527PT24.CEL  10.730824  10.396527   9.662997   9.063309  \nknhb_256_Fbat527PT48.CEL  11.780026  11.672261  11.027135  10.517893  \nknhb_259_Fbat528PT24.CEL  10.962409  10.492657   9.995360   9.030596  \nknhb_260_Fbat528PT48.CEL  12.656827  12.503075  12.066170  11.153227  \n\n[71 rows x 64 columns]",
      "text/html": "<div>\n<style scoped>\n    .dataframe tbody tr th:only-of-type {\n        vertical-align: middle;\n    }\n\n    .dataframe tbody tr th {\n        vertical-align: top;\n    }\n\n    .dataframe thead th {\n        text-align: right;\n    }\n</style>\n<table border=\"1\" class=\"dataframe\">\n  <thead>\n    <tr style=\"text-align: right;\">\n      <th></th>\n      <th>ACOA</th>\n      <th>ACOC</th>\n      <th>ACOL</th>\n      <th>BGLS</th>\n      <th>ETFB</th>\n      <th>GAPB</th>\n      <th>KATA</th>\n      <th>MTLD</th>\n      <th>RPLJ</th>\n      <th>RPLL</th>\n      <th>...</th>\n      <th>YUTI</th>\n      <th>YWFO</th>\n      <th>YWGA</th>\n      <th>YXLC</th>\n      <th>YXLD</th>\n      <th>YXLE</th>\n      <th>YXLF</th>\n      <th>YXLG</th>\n      <th>YXLH</th>\n      <th>YXLJ</th>\n    </tr>\n    <tr>\n      <th>Unnamed: 0</th>\n      <th></th>\n      <th></th>\n      <th></th>\n      <th></th>\n      <th></th>\n      <th></th>\n      <th></th>\n      <th></th>\n      <th></th>\n      <th></th>\n      <th></th>\n      <th></th>\n      <th></th>\n      <th></th>\n      <th></th>\n      <th></th>\n      <th></th>\n      <th></th>\n      <th></th>\n      <th></th>\n      <th></th>\n    </tr>\n  </thead>\n  <tbody>\n    <tr>\n      <th>b_Fbat107PT24.CEL</th>\n      <td>12.324120</td>\n      <td>11.776005</td>\n      <td>12.089348</td>\n      <td>9.889367</td>\n      <td>10.599860</td>\n      <td>12.283714</td>\n      <td>10.812109</td>\n      <td>9.155505</td>\n      <td>7.247484</td>\n      <td>7.512938</td>\n      <td>...</td>\n      <td>11.149658</td>\n      <td>9.887728</td>\n      <td>9.636041</td>\n      <td>11.341875</td>\n      <td>11.400396</td>\n      <td>10.692673</td>\n      <td>10.523422</td>\n      <td>10.546576</td>\n      <td>8.736594</td>\n      <td>9.108448</td>\n    </tr>\n    <tr>\n      <th>b_Fbat107PT30.CEL</th>\n      <td>10.358482</td>\n      <td>10.248486</td>\n      <td>10.638415</td>\n      <td>9.212605</td>\n      <td>10.112995</td>\n      <td>11.785224</td>\n      <td>11.433798</td>\n      <td>9.612246</td>\n      <td>8.152753</td>\n      <td>8.248651</td>\n      <td>...</td>\n      <td>11.385702</td>\n      <td>9.626395</td>\n      <td>9.393478</td>\n      <td>11.608416</td>\n      <td>11.672586</td>\n      <td>11.054989</td>\n      <td>10.930425</td>\n      <td>10.889011</td>\n      <td>8.681865</td>\n      <td>9.558392</td>\n    </tr>\n    <tr>\n      <th>b_Fbat107PT48.CEL</th>\n      <td>9.475664</td>\n      <td>9.654465</td>\n      <td>10.103092</td>\n      <td>9.017936</td>\n      <td>3.530039</td>\n      <td>11.430013</td>\n      <td>10.018085</td>\n      <td>9.560069</td>\n      <td>8.940876</td>\n      <td>9.053245</td>\n      <td>...</td>\n      <td>11.125383</td>\n      <td>9.375176</td>\n      <td>9.265102</td>\n      <td>12.843800</td>\n      <td>12.869957</td>\n      <td>11.930090</td>\n      <td>12.067484</td>\n      <td>12.179926</td>\n      <td>9.399933</td>\n      <td>10.559556</td>\n    </tr>\n    <tr>\n      <th>b_Fbat107PT52.CEL</th>\n      <td>9.890362</td>\n      <td>9.519613</td>\n      <td>10.076982</td>\n      <td>9.484614</td>\n      <td>9.867326</td>\n      <td>11.260545</td>\n      <td>9.793874</td>\n      <td>9.314783</td>\n      <td>8.071629</td>\n      <td>8.372457</td>\n      <td>...</td>\n      <td>10.833900</td>\n      <td>9.376454</td>\n      <td>9.297749</td>\n      <td>13.116610</td>\n      <td>13.178030</td>\n      <td>12.200470</td>\n      <td>12.351664</td>\n      <td>12.436408</td>\n      <td>8.504988</td>\n      <td>10.513444</td>\n    </tr>\n    <tr>\n      <th>knh_102_Fbat289PT24.CEL</th>\n      <td>11.203205</td>\n      <td>11.161349</td>\n      <td>11.421737</td>\n      <td>9.639333</td>\n      <td>9.657681</td>\n      <td>10.538356</td>\n      <td>9.058072</td>\n      <td>7.985947</td>\n      <td>6.462661</td>\n      <td>7.357222</td>\n      <td>...</td>\n      <td>10.278535</td>\n      <td>9.173390</td>\n      <td>8.935165</td>\n      <td>10.550158</td>\n      <td>10.799744</td>\n      <td>9.562887</td>\n      <td>9.714029</td>\n      <td>10.175065</td>\n      <td>9.637252</td>\n      <td>8.869383</td>\n    </tr>\n    <tr>\n      <th>...</th>\n      <td>...</td>\n      <td>...</td>\n      <td>...</td>\n      <td>...</td>\n      <td>...</td>\n      <td>...</td>\n      <td>...</td>\n      <td>...</td>\n      <td>...</td>\n      <td>...</td>\n      <td>...</td>\n      <td>...</td>\n      <td>...</td>\n      <td>...</td>\n      <td>...</td>\n      <td>...</td>\n      <td>...</td>\n      <td>...</td>\n      <td>...</td>\n      <td>...</td>\n      <td>...</td>\n    </tr>\n    <tr>\n      <th>knhb_252_Fbat526PT48.CEL</th>\n      <td>8.761565</td>\n      <td>8.254346</td>\n      <td>8.581191</td>\n      <td>8.047885</td>\n      <td>8.762867</td>\n      <td>9.365504</td>\n      <td>9.079053</td>\n      <td>8.001561</td>\n      <td>7.043239</td>\n      <td>8.664091</td>\n      <td>...</td>\n      <td>9.179679</td>\n      <td>8.065889</td>\n      <td>7.897159</td>\n      <td>12.543190</td>\n      <td>12.731218</td>\n      <td>11.744776</td>\n      <td>12.117330</td>\n      <td>12.047993</td>\n      <td>10.769374</td>\n      <td>10.773302</td>\n    </tr>\n    <tr>\n      <th>knhb_255_Fbat527PT24.CEL</th>\n      <td>10.074554</td>\n      <td>9.759161</td>\n      <td>9.847378</td>\n      <td>8.528671</td>\n      <td>10.095528</td>\n      <td>11.268177</td>\n      <td>10.205480</td>\n      <td>11.352298</td>\n      <td>7.854090</td>\n      <td>8.870646</td>\n      <td>...</td>\n      <td>10.152214</td>\n      <td>8.985875</td>\n      <td>8.659508</td>\n      <td>10.793187</td>\n      <td>11.048911</td>\n      <td>10.528379</td>\n      <td>10.730824</td>\n      <td>10.396527</td>\n      <td>9.662997</td>\n      <td>9.063309</td>\n    </tr>\n    <tr>\n      <th>knhb_256_Fbat527PT48.CEL</th>\n      <td>9.139668</td>\n      <td>8.589319</td>\n      <td>8.830947</td>\n      <td>7.717368</td>\n      <td>7.812616</td>\n      <td>8.326074</td>\n      <td>8.638573</td>\n      <td>8.055042</td>\n      <td>6.558416</td>\n      <td>7.457298</td>\n      <td>...</td>\n      <td>8.607382</td>\n      <td>8.403321</td>\n      <td>8.008019</td>\n      <td>12.037156</td>\n      <td>12.488770</td>\n      <td>11.496680</td>\n      <td>11.780026</td>\n      <td>11.672261</td>\n      <td>11.027135</td>\n      <td>10.517893</td>\n    </tr>\n    <tr>\n      <th>knhb_259_Fbat528PT24.CEL</th>\n      <td>11.251437</td>\n      <td>10.918159</td>\n      <td>10.980634</td>\n      <td>7.547610</td>\n      <td>9.850292</td>\n      <td>11.025710</td>\n      <td>9.878302</td>\n      <td>11.684999</td>\n      <td>7.609305</td>\n      <td>8.574197</td>\n      <td>...</td>\n      <td>10.199311</td>\n      <td>9.380027</td>\n      <td>8.919111</td>\n      <td>11.039084</td>\n      <td>11.313572</td>\n      <td>10.826784</td>\n      <td>10.962409</td>\n      <td>10.492657</td>\n      <td>9.995360</td>\n      <td>9.030596</td>\n    </tr>\n    <tr>\n      <th>knhb_260_Fbat528PT48.CEL</th>\n      <td>8.927952</td>\n      <td>8.587714</td>\n      <td>8.547113</td>\n      <td>7.872611</td>\n      <td>8.245474</td>\n      <td>8.703045</td>\n      <td>8.885172</td>\n      <td>8.394180</td>\n      <td>7.356826</td>\n      <td>8.860597</td>\n      <td>...</td>\n      <td>8.608894</td>\n      <td>8.390983</td>\n      <td>7.775822</td>\n      <td>12.657152</td>\n      <td>12.971338</td>\n      <td>12.571936</td>\n      <td>12.656827</td>\n      <td>12.503075</td>\n      <td>12.066170</td>\n      <td>11.153227</td>\n    </tr>\n  </tbody>\n</table>\n<p>71 rows × 64 columns</p>\n</div>"
     },
     "execution_count": 391,
     "metadata": {},
     "output_type": "execute_result"
    }
   ],
   "source": [
    "from sklearn.linear_model import LinearRegression\n",
    "from sklearn.model_selection import train_test_split\n",
    "from sklearn.metrics import mean_squared_error, r2_score\n",
    "\n",
    "from sklearn.decomposition import PCA\n",
    "df4"
   ],
   "metadata": {
    "collapsed": false,
    "ExecuteTime": {
     "end_time": "2024-08-06T12:41:32.850364Z",
     "start_time": "2024-08-06T12:41:32.751114800Z"
    }
   },
   "id": "fc782d255546d941"
  },
  {
   "cell_type": "code",
   "execution_count": 392,
   "outputs": [],
   "source": [
    "# 加载自变量和因变量数据\n",
    "X = df4.values  # 自变量（基因表达数据）\n",
    "y = y1['production(log)'].values  # 因变量（产量，取对数后）\n"
   ],
   "metadata": {
    "collapsed": false,
    "ExecuteTime": {
     "end_time": "2024-08-06T12:41:32.850364Z",
     "start_time": "2024-08-06T12:41:32.761185100Z"
    }
   },
   "id": "869b4dc34f60b66f"
  },
  {
   "cell_type": "code",
   "execution_count": 393,
   "outputs": [
    {
     "data": {
      "text/plain": "array([False, False,  True,  True, False, False, False,  True, False,\n       False, False, False, False, False, False,  True,  True, False,\n        True, False, False, False, False, False, False, False, False,\n       False,  True, False, False, False, False, False, False, False,\n       False, False, False, False, False, False, False, False, False,\n       False, False, False, False,  True,  True, False, False, False,\n       False, False, False, False, False, False, False, False, False,\n        True, False, False, False, False, False, False,  True])"
     },
     "execution_count": 393,
     "metadata": {},
     "output_type": "execute_result"
    }
   ],
   "source": [
    "'''quchuzaosheng'''\n",
    "import matplotlib.pyplot as plt\n",
    "import numpy as np\n",
    "from sklearn.ensemble import IsolationForest\n",
    "\n",
    "# 训练孤立森林模型\n",
    "iso_forest = IsolationForest(contamination=0.15)  # 假设15%的样本是异常的\n",
    "y_pred = iso_forest.fit_predict(df4)\n",
    "\n",
    "# 标记异常样本\n",
    "outliers = y_pred == -1\n",
    "X_df_clean = df4[~outliers]\n",
    "y_df_clean = y1[~outliers]\n",
    "outliers"
   ],
   "metadata": {
    "collapsed": false,
    "ExecuteTime": {
     "end_time": "2024-08-06T12:41:32.850364Z",
     "start_time": "2024-08-06T12:41:32.767510700Z"
    }
   },
   "id": "1676c67b6ce5cb2e"
  },
  {
   "cell_type": "code",
   "execution_count": 394,
   "outputs": [
    {
     "name": "stdout",
     "output_type": "stream",
     "text": [
      "Number of components: 8\n",
      "Explained variance ratio of each component:\n",
      "[0.38419564 0.17756326 0.12858217 0.08489968 0.05353094 0.03265455\n",
      " 0.02604067 0.01759839]\n",
      "Cumulative explained variance ratio:\n",
      "[0.38419564 0.5617589  0.69034106 0.77524075 0.82877168 0.86142623\n",
      " 0.88746691 0.9050653 ]\n",
      "Mean Squared Error: 0.1899009447899308\n",
      "R^2 Score: 0.651269704614488\n"
     ]
    }
   ],
   "source": [
    "# 初始化PCA并保留足够的主成分来解释90%的方差\n",
    "pca = PCA(n_components=0.9)\n",
    "X_pca = pca.fit_transform(X_df_clean)\n",
    "\n",
    "# 查看主成分数量\n",
    "print(f'Number of components: {X_pca.shape[1]}')\n",
    "\n",
    "# 查看各主成分解释的方差比例\n",
    "explained_variance_ratio = pca.explained_variance_ratio_\n",
    "print(\"Explained variance ratio of each component:\")\n",
    "print(explained_variance_ratio)\n",
    "\n",
    "# 查看累计解释的方差比例\n",
    "cumulative_explained_variance = explained_variance_ratio.cumsum()\n",
    "print(\"Cumulative explained variance ratio:\")\n",
    "print(cumulative_explained_variance)\n",
    "\n",
    "X_train, X_test, y_train, y_test = train_test_split(X_pca, y_df_clean, test_size=0.1, random_state=42)\n",
    "\n",
    "model = LinearRegression()\n",
    "model.fit(X_train, y_train)\n",
    "\n",
    "y_pred = model.predict(X_test)\n",
    "\n",
    "# 计算均方误差和R方值\n",
    "mse = mean_squared_error(y_test, y_pred)\n",
    "r2 = r2_score(y_test, y_pred)\n",
    "\n",
    "print(f'Mean Squared Error: {mse}')\n",
    "print(f'R^2 Score: {r2}')\n"
   ],
   "metadata": {
    "collapsed": false,
    "ExecuteTime": {
     "end_time": "2024-08-06T12:41:32.850364Z",
     "start_time": "2024-08-06T12:41:32.834089700Z"
    }
   },
   "id": "2ccfc2de877187f1"
  },
  {
   "cell_type": "code",
   "execution_count": 401,
   "outputs": [
    {
     "data": {
      "text/plain": "    production(log)\n0         -6.643856\n8         -8.333516\n43        -7.828281\n54        -7.265345\n19        -6.137965\n64        -7.673003",
      "text/html": "<div>\n<style scoped>\n    .dataframe tbody tr th:only-of-type {\n        vertical-align: middle;\n    }\n\n    .dataframe tbody tr th {\n        vertical-align: top;\n    }\n\n    .dataframe thead th {\n        text-align: right;\n    }\n</style>\n<table border=\"1\" class=\"dataframe\">\n  <thead>\n    <tr style=\"text-align: right;\">\n      <th></th>\n      <th>production(log)</th>\n    </tr>\n  </thead>\n  <tbody>\n    <tr>\n      <th>0</th>\n      <td>-6.643856</td>\n    </tr>\n    <tr>\n      <th>8</th>\n      <td>-8.333516</td>\n    </tr>\n    <tr>\n      <th>43</th>\n      <td>-7.828281</td>\n    </tr>\n    <tr>\n      <th>54</th>\n      <td>-7.265345</td>\n    </tr>\n    <tr>\n      <th>19</th>\n      <td>-6.137965</td>\n    </tr>\n    <tr>\n      <th>64</th>\n      <td>-7.673003</td>\n    </tr>\n  </tbody>\n</table>\n</div>"
     },
     "execution_count": 401,
     "metadata": {},
     "output_type": "execute_result"
    }
   ],
   "source": [
    "y_test"
   ],
   "metadata": {
    "collapsed": false,
    "ExecuteTime": {
     "end_time": "2024-08-06T12:42:54.798820100Z",
     "start_time": "2024-08-06T12:42:54.788635700Z"
    }
   },
   "id": "f81248bd5467dd9c"
  },
  {
   "cell_type": "code",
   "execution_count": 395,
   "outputs": [
    {
     "name": "stdout",
     "output_type": "stream",
     "text": [
      "Principal components:\n"
     ]
    }
   ],
   "source": [
    "# 查看各主成分的载荷\n",
    "components_df = pd.DataFrame(pca.components_, columns=X_df_clean.columns)\n",
    "print(\"Principal components:\")\n",
    "components_df.to_excel('主成分贡献表.xlsx')"
   ],
   "metadata": {
    "collapsed": false,
    "ExecuteTime": {
     "end_time": "2024-08-06T12:41:32.900483700Z",
     "start_time": "2024-08-06T12:41:32.847125400Z"
    }
   },
   "id": "6c540ac052a6f038"
  },
  {
   "cell_type": "code",
   "execution_count": 396,
   "outputs": [
    {
     "name": "stdout",
     "output_type": "stream",
     "text": [
      "Explained variance ratio of each component:\n"
     ]
    },
    {
     "data": {
      "text/plain": "array([0.38419564, 0.17756326, 0.12858217, 0.08489968, 0.05353094,\n       0.03265455, 0.02604067, 0.01759839])"
     },
     "execution_count": 396,
     "metadata": {},
     "output_type": "execute_result"
    }
   ],
   "source": [
    "\n",
    "# 查看各主成分解释的方差比例\n",
    "explained_variance_ratio = pca.explained_variance_ratio_\n",
    "print(\"Explained variance ratio of each component:\")\n",
    "explained_variance_ratio"
   ],
   "metadata": {
    "collapsed": false,
    "ExecuteTime": {
     "end_time": "2024-08-06T12:41:32.900483700Z",
     "start_time": "2024-08-06T12:41:32.872139600Z"
    }
   },
   "id": "6fe10a114618d28"
  },
  {
   "cell_type": "code",
   "execution_count": 397,
   "outputs": [
    {
     "name": "stdout",
     "output_type": "stream",
     "text": [
      "Cumulative explained variance ratio:\n"
     ]
    },
    {
     "data": {
      "text/plain": "array([0.38419564, 0.5617589 , 0.69034106, 0.77524075, 0.82877168,\n       0.86142623, 0.88746691, 0.9050653 ])"
     },
     "execution_count": 397,
     "metadata": {},
     "output_type": "execute_result"
    }
   ],
   "source": [
    "\n",
    "\n",
    "# 查看累计解释的方差比例\n",
    "cumulative_explained_variance = explained_variance_ratio.cumsum()\n",
    "print(\"Cumulative explained variance ratio:\")\n",
    "cumulative_explained_variance"
   ],
   "metadata": {
    "collapsed": false,
    "ExecuteTime": {
     "end_time": "2024-08-06T12:41:32.938979600Z",
     "start_time": "2024-08-06T12:41:32.877168600Z"
    }
   },
   "id": "82f89d65dd314e72"
  },
  {
   "cell_type": "code",
   "execution_count": 402,
   "outputs": [
    {
     "data": {
      "text/plain": "<Figure size 1000x600 with 1 Axes>",
      "image/png": "[encoded data removed]"
     },
     "metadata": {},
     "output_type": "display_data"
    }
   ],
   "source": [
    "# 可视化实际值 vs 预测值\n",
    "plt.figure(figsize=(10, 6))\n",
    "plt.scatter(y_test, y_pred, alpha=0.7, color='b')  # 绘制实际值和预测值的散点图\n",
    "plt.plot([min(y_test), max(y_test)], [min(y_test), max(y_test)], 'r--', lw=2)  # y=x的参考线\n",
    "plt.xlabel('Actual Values')\n",
    "plt.ylabel('Predicted Values')\n",
    "plt.title('Actual vs Predicted Values')\n",
    "plt.grid(True)\n",
    "plt.show()"
   ],
   "metadata": {
    "collapsed": false,
    "ExecuteTime": {
     "end_time": "2024-08-06T12:43:12.210058600Z",
     "start_time": "2024-08-06T12:43:12.160176100Z"
    }
   },
   "id": "8241a59fc7d918e"
  },
  {
   "cell_type": "code",
   "execution_count": 399,
   "outputs": [
    {
     "name": "stdout",
     "output_type": "stream",
     "text": [
      "KMO全体统计量: [0.63016047 0.62589674 0.5685963  0.55094335 0.56811673 0.4814154\n",
      " 0.59674474 0.41030548 0.50794023 0.53915484 0.64977511 0.65534095\n",
      " 0.70730228 0.58802825 0.54043768 0.54017738 0.53802781 0.75238225\n",
      " 0.52649695 0.48672591 0.5793918  0.55518351 0.43798099 0.48210873\n",
      " 0.68328211 0.63956006 0.70924082 0.52275086 0.49640434 0.54334374\n",
      " 0.61119934 0.69047468 0.64608232 0.60124411 0.60776925 0.61475025\n",
      " 0.65894246 0.65300596 0.62453717 0.61690473 0.58096849 0.64764463\n",
      " 0.64110576 0.59339731 0.57941594 0.57507816 0.62991647 0.5535321\n",
      " 0.8457815  0.68134605 0.61879304 0.67186749 0.80153534 0.70893225\n",
      " 0.61059208 0.62359815 0.64971508 0.73007935 0.61060859 0.56155113\n",
      " 0.67598662 0.60102548 0.62685423 0.63166083]\n",
      "KMO模型统计量: 0.6079331832052719\n"
     ]
    },
    {
     "name": "stderr",
     "output_type": "stream",
     "text": [
      "D:\\py的东西\\Lib\\site-packages\\factor_analyzer\\utils.py:244: UserWarning: The inverse of the variance-covariance matrix was calculated using the Moore-Penrose generalized matrix inversion, due to its determinant being at or very close to zero.\n",
      "  warnings.warn(\n"
     ]
    }
   ],
   "source": [
    "import pandas as pd\n",
    "from factor_analyzer import FactorAnalyzer\n",
    "from factor_analyzer.factor_analyzer import calculate_kmo\n",
    "\n",
    "# 示例数据\n",
    "data = X_df_clean\n",
    "\n",
    "# 计算相关性矩阵\n",
    "correlation_matrix = data.corr()\n",
    "\n",
    "# 计算KMO统计量\n",
    "kmo_all, kmo_model = calculate_kmo(correlation_matrix)\n",
    "\n",
    "print(f'KMO全体统计量: {kmo_all}')\n",
    "print(f'KMO模型统计量: {kmo_model}')"
   ],
   "metadata": {
    "collapsed": false,
    "ExecuteTime": {
     "end_time": "2024-08-06T12:41:33.017824Z",
     "start_time": "2024-08-06T12:41:32.932435500Z"
    }
   },
   "id": "a3e09e6a631a4d5d"
  }
 ],
 "metadata": {
  "kernelspec": {
   "display_name": "Python 3",
   "language": "python",
   "name": "python3"
  },
  "language_info": {
   "codemirror_mode": {
    "name": "ipython",
    "version": 2
   },
   "file_extension": ".py",
   "mimetype": "text/x-python",
   "name": "python",
   "nbconvert_exporter": "python",
   "pygments_lexer": "ipython2",
   "version": "2.7.6"
  }
 },
 "nbformat": 4,
 "nbformat_minor": 5
}
